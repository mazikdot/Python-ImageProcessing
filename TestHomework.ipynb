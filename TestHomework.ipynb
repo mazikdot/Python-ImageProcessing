{
 "cells": [
  {
   "cell_type": "code",
   "execution_count": 25,
   "source": [
    "import cv2 as cv\r\n",
    "import numpy as np\r\n",
    "from matplotlib import pyplot as plt"
   ],
   "outputs": [],
   "metadata": {}
  },
  {
   "cell_type": "code",
   "execution_count": 26,
   "source": [
    "\r\n",
    "#generate my kernel\r\n",
    "cross_3x3 = np.array([[0,1,0],[1,1,1],[0,1,0]],dtype=np.uint8)\r\n",
    "print(\"Kernel or Structuring Element Cross 3x3\")\r\n",
    "print(cross_3x3)\r\n",
    "rectangle_3x3 = np.ones((3,3),dtype=np.uint8)\r\n",
    "print(\"Kernel or Structuring Element Rectangle 3x3\")\r\n",
    "print(rectangle_3x3)\r\n",
    "eiei_3x3 = np.array([[0,0,0],[0,1,1],[0,1,1]],dtype=np.uint8)\r\n",
    "print(\"Kernel or Structuring MyCustom 3x3\")\r\n",
    "print(eiei_3x3)\r\n",
    "\r\n",
    "#testhoemwork\r\n",
    "test3x3 = np.array([[1,0,1],[0,0,0],[1,0,1]],dtype=np.uint8)"
   ],
   "outputs": [
    {
     "output_type": "stream",
     "name": "stdout",
     "text": [
      "Kernel or Structuring Element Cross 3x3\n",
      "[[0 1 0]\n",
      " [1 1 1]\n",
      " [0 1 0]]\n",
      "Kernel or Structuring Element Rectangle 3x3\n",
      "[[1 1 1]\n",
      " [1 1 1]\n",
      " [1 1 1]]\n",
      "Kernel or Structuring MyCustom 3x3\n",
      "[[0 0 0]\n",
      " [0 1 1]\n",
      " [0 1 1]]\n"
     ]
    }
   ],
   "metadata": {}
  },
  {
   "cell_type": "code",
   "execution_count": 27,
   "source": [
    "#USE cv.getStructuringElement()\r\n",
    "rect3x3 = cv.getStructuringElement(cv.MORPH_RECT,(3,3))\r\n",
    "cross3x3 = cv.getStructuringElement(cv.MORPH_CROSS,(3,3))\r\n",
    "ellipse3x3 = cv.getStructuringElement(cv.MORPH_ELLIPSE,(3,3))\r\n",
    "rect5x5 = cv.getStructuringElement(cv.MORPH_RECT,(5,5))\r\n",
    "cross5x5 = cv.getStructuringElement(cv.MORPH_CROSS,(5,5))\r\n",
    "ellipse5x5 = cv.getStructuringElement(cv.MORPH_ELLIPSE,(5,5))\r\n",
    "print(rect3x3)\r\n",
    "print(cross3x3)\r\n",
    "print(ellipse3x3)\r\n",
    "print(rect5x5)\r\n",
    "print(cross5x5)\r\n",
    "print(ellipse5x5)\r\n",
    "#ractangle 3x3"
   ],
   "outputs": [
    {
     "output_type": "stream",
     "name": "stdout",
     "text": [
      "[[1 1 1]\n",
      " [1 1 1]\n",
      " [1 1 1]]\n",
      "[[0 1 0]\n",
      " [1 1 1]\n",
      " [0 1 0]]\n",
      "[[0 1 0]\n",
      " [1 1 1]\n",
      " [0 1 0]]\n",
      "[[1 1 1 1 1]\n",
      " [1 1 1 1 1]\n",
      " [1 1 1 1 1]\n",
      " [1 1 1 1 1]\n",
      " [1 1 1 1 1]]\n",
      "[[0 0 1 0 0]\n",
      " [0 0 1 0 0]\n",
      " [1 1 1 1 1]\n",
      " [0 0 1 0 0]\n",
      " [0 0 1 0 0]]\n",
      "[[0 0 1 0 0]\n",
      " [1 1 1 1 1]\n",
      " [1 1 1 1 1]\n",
      " [1 1 1 1 1]\n",
      " [0 0 1 0 0]]\n"
     ]
    }
   ],
   "metadata": {}
  },
  {
   "cell_type": "code",
   "execution_count": 28,
   "source": [
    "##Load Circuit Image / Convert2Binary\r\n",
    "src = cv.imread(\"HomeworkElement.PNG\")\r\n",
    "gray_img = cv.cvtColor(src,cv.COLOR_BGR2GRAY)\r\n",
    "__,binary_img = cv.threshold(gray_img,127,255,cv.THRESH_BINARY)\r\n",
    "plt.imshow(binary_img,cmap='gray'),plt.xticks([]),plt.yticks([])\r\n",
    "plt.show()\r\n"
   ],
   "outputs": [
    {
     "output_type": "display_data",
     "data": {
      "image/png": "[encoded data removed]",
      "text/plain": [
       "<Figure size 432x288 with 1 Axes>"
      ]
     },
     "metadata": {}
    }
   ],
   "metadata": {}
  },
  {
   "cell_type": "code",
   "execution_count": 29,
   "source": [
    "#test Morph\r\n",
    "show_eroderect5x5= cv.erode(binary_img,rect5x5,iterations=1)\r\n",
    "show_erodecross3x3 = cv.erode(binary_img,cross3x3,iterations=10)\r\n",
    "show_ellipse5x5 = cv.erode(binary_img,ellipse5x5,iterations=1)\r\n",
    "#iterations = 1 คือ 1 รอบ\r\n",
    "print(\"Original Binary\")\r\n",
    "plt.imshow(binary_img,cmap='gray'),plt.xticks([]),plt.yticks([])\r\n",
    "plt.show()\r\n",
    "print(\"Result from eroded_rect5x5\")\r\n",
    "plt.imshow(show_eroderect5x5,cmap='gray'),plt.xticks([]),plt.yticks([])\r\n",
    "plt.show()\r\n",
    "print(\"Result from eroded_cross5x5\")\r\n",
    "plt.imshow(show_erodecross3x3,cmap='gray'),plt.xticks([]),plt.yticks([])\r\n",
    "plt.show()\r\n",
    "print(\"Result from eroded_ellipse5x5\")\r\n",
    "plt.imshow(show_ellipse5x5,cmap='gray'),plt.xticks([]),plt.yticks([])\r\n",
    "plt.show()\r\n",
    "# print(rect3x3)\r\n",
    "# print(cross3x3)\r\n",
    "# print(ellipse3x3)\r\n",
    "# print(rect5x5)\r\n",
    "# print(cross5x5)\r\n",
    "# print(ellipse5x5)"
   ],
   "outputs": [
    {
     "output_type": "stream",
     "name": "stdout",
     "text": [
      "Original Binary\n"
     ]
    },
    {
     "output_type": "display_data",
     "data": {
      "image/png": "[encoded data removed]",
      "text/plain": [
       "<Figure size 432x288 with 1 Axes>"
      ]
     },
     "metadata": {}
    },
    {
     "output_type": "stream",
     "name": "stdout",
     "text": [
      "Result from eroded_rect5x5\n"
     ]
    },
    {
     "output_type": "display_data",
     "data": {
      "image/png": "[encoded data removed]",
      "text/plain": [
       "<Figure size 432x288 with 1 Axes>"
      ]
     },
     "metadata": {}
    },
    {
     "output_type": "stream",
     "name": "stdout",
     "text": [
      "Result from eroded_cross5x5\n"
     ]
    },
    {
     "output_type": "display_data",
     "data": {
      "image/png": "[encoded data removed]",
      "text/plain": [
       "<Figure size 432x288 with 1 Axes>"
      ]
     },
     "metadata": {}
    },
    {
     "output_type": "stream",
     "name": "stdout",
     "text": [
      "Result from eroded_ellipse5x5\n"
     ]
    },
    {
     "output_type": "display_data",
     "data": {
      "image/png": "[encoded data removed]",
      "text/plain": [
       "<Figure size 432x288 with 1 Axes>"
      ]
     },
     "metadata": {}
    }
   ],
   "metadata": {}
  },
  {
   "cell_type": "code",
   "execution_count": 30,
   "source": [
    "dilate_eroderect5x5= cv.dilate(binary_img,rect5x5,iterations=1)\r\n",
    "dilate_erodecross3x3 = cv.dilate(binary_img,cross5x5,iterations=1)\r\n",
    "dilate_ellipse5x5 = cv.dilate(binary_img,ellipse5x5,iterations=1)\r\n",
    "\r\n",
    "print(\"Original Binary\")\r\n",
    "plt.imshow(binary_img,cmap='gray'),plt.xticks([]),plt.yticks([])\r\n",
    "plt.show()\r\n",
    "print(\"Result from eroded_rect5x5\")\r\n",
    "plt.imshow(dilate_eroderect5x5,cmap='gray'),plt.xticks([]),plt.yticks([])\r\n",
    "plt.show()\r\n",
    "print(\"Result from eroded_cross5x5\")\r\n",
    "plt.imshow(dilate_erodecross3x3,cmap='gray'),plt.xticks([]),plt.yticks([])\r\n",
    "plt.show()\r\n",
    "print(\"Result from eroded_ellipse5x5\")\r\n",
    "plt.imshow(dilate_ellipse5x5,cmap='gray'),plt.xticks([]),plt.yticks([])\r\n",
    "plt.show()"
   ],
   "outputs": [
    {
     "output_type": "stream",
     "name": "stdout",
     "text": [
      "Original Binary\n"
     ]
    },
    {
     "output_type": "display_data",
     "data": {
      "image/png": "[encoded data removed]",
      "text/plain": [
       "<Figure size 432x288 with 1 Axes>"
      ]
     },
     "metadata": {}
    },
    {
     "output_type": "stream",
     "name": "stdout",
     "text": [
      "Result from eroded_rect5x5\n"
     ]
    },
    {
     "output_type": "display_data",
     "data": {
      "image/png": "[encoded data removed]",
      "text/plain": [
       "<Figure size 432x288 with 1 Axes>"
      ]
     },
     "metadata": {}
    },
    {
     "output_type": "stream",
     "name": "stdout",
     "text": [
      "Result from eroded_cross5x5\n"
     ]
    },
    {
     "output_type": "display_data",
     "data": {
      "image/png": "[encoded data removed]",
      "text/plain": [
       "<Figure size 432x288 with 1 Axes>"
      ]
     },
     "metadata": {}
    },
    {
     "output_type": "stream",
     "name": "stdout",
     "text": [
      "Result from eroded_ellipse5x5\n"
     ]
    },
    {
     "output_type": "display_data",
     "data": {
      "image/png": "[encoded data removed]",
      "text/plain": [
       "<Figure size 432x288 with 1 Axes>"
      ]
     },
     "metadata": {}
    }
   ],
   "metadata": {}
  },
  {
   "cell_type": "markdown",
   "source": [],
   "metadata": {}
  }
 ],
 "metadata": {
  "orig_nbformat": 4,
  "language_info": {
   "name": "python",
   "version": "3.9.2",
   "mimetype": "text/x-python",
   "codemirror_mode": {
    "name": "ipython",
    "version": 3
   },
   "pygments_lexer": "ipython3",
   "nbconvert_exporter": "python",
   "file_extension": ".py"
  },
  "kernelspec": {
   "name": "python3",
   "display_name": "Python 3.9.2 64-bit"
  },
  "interpreter": {
   "hash": "23b43f35088985b611a367e4544fc1e1c5544bfe34083edf00d7f058e75fead2"
  }
 },
 "nbformat": 4,
 "nbformat_minor": 2
}