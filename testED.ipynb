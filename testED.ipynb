{
 "cells": [
  {
   "cell_type": "code",
   "execution_count": 5,
   "source": [
    "import cv2 as cv\r\n",
    "import numpy as np\r\n",
    "from matplotlib import pyplot as plt\r\n",
    "cross_3x3 = np.array([[0,1,0],[1,1,1],[0,1,0]],dtype=np.uint8)\r\n",
    "print(\"Kernel or Structuring Element Cross 3x3\")\r\n",
    "print(cross_3x3)\r\n",
    "img =  np.array([\r\n",
    "\t\t[0,0,0,0,0,0,0,0,0,0,0,0,0,0,0],\r\n",
    "\t\t[0,0,1,1,0,0,1,1,1,1,0,0,0,0,0],\r\n",
    "\t\t[0,1,1,1,0,0,1,1,1,0,0,0,1,1,0],\r\n",
    "\t\t[0,1,1,1,1,1,1,1,1,0,0,0,1,1,0],\r\n",
    "\t\t[0,0,1,0,0,1,1,1,0,0,0,0,0,0,0],\r\n",
    "\t\t[0,0,0,0,0,0,1,0,0,0,1,1,0,0,0],\r\n",
    "\t\t[0,0,0,1,0,0,0,0,0,0,0,0,0,0,0],\r\n",
    "\t\t[0,0,0,0,0,0,0,0,0,0,0,0,0,0,0]\r\n",
    "\t],dtype=np.uint16)\r\n",
    "cross3x3 = cv.getStructuringElement(cv.MORPH_CROSS,(3,3))\r\n",
    "show_erodecross3x3 = cv.erode(img,cross3x3,iterations=1)\r\n",
    "print(\"Original Binary\")\r\n",
    "plt.imshow(img,cmap='gray'),plt.xticks([]),plt.yticks([])\r\n",
    "plt.show()\r\n"
   ],
   "outputs": [
    {
     "output_type": "stream",
     "name": "stdout",
     "text": [
      "Kernel or Structuring Element Cross 3x3\n",
      "[[0 1 0]\n",
      " [1 1 1]\n",
      " [0 1 0]]\n",
      "Original Binary\n"
     ]
    },
    {
     "output_type": "display_data",
     "data": {
      "image/png": "[encoded data removed]",
      "text/plain": [
       "<Figure size 432x288 with 1 Axes>"
      ]
     },
     "metadata": {}
    }
   ],
   "metadata": {}
  }
 ],
 "metadata": {
  "orig_nbformat": 4,
  "language_info": {
   "name": "python",
   "version": "3.9.2",
   "mimetype": "text/x-python",
   "codemirror_mode": {
    "name": "ipython",
    "version": 3
   },
   "pygments_lexer": "ipython3",
   "nbconvert_exporter": "python",
   "file_extension": ".py"
  },
  "kernelspec": {
   "name": "python3",
   "display_name": "Python 3.9.2 64-bit"
  },
  "interpreter": {
   "hash": "23b43f35088985b611a367e4544fc1e1c5544bfe34083edf00d7f058e75fead2"
  }
 },
 "nbformat": 4,
 "nbformat_minor": 2
}