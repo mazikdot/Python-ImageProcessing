{
 "cells": [
  {
   "cell_type": "code",
   "execution_count": 4,
   "source": [
    "import cv2 as cv\r\n",
    "import numpy as np\r\n",
    "from matplotlib import pyplot as plt\r\n",
    "cross_3x3 = np.array([[0,1,0],[1,1,1],[0,1,0]],dtype=np.uint8)\r\n",
    "print(\"Kernel or Structuring Element Cross 3x3\")\r\n",
    "print(cross_3x3)\r\n",
    "img =  np.array([\r\n",
    "\t\t[0,0,0,0,0,0,0,0,0,0,0,0,0,0,0],\r\n",
    "\t\t[0,0,1,1,0,0,1,1,1,1,0,0,0,0,0],\r\n",
    "\t\t[0,1,1,1,0,0,1,1,1,0,0,0,1,1,0],\r\n",
    "\t\t[0,1,1,1,1,1,1,1,1,0,0,0,1,1,0],\r\n",
    "\t\t[0,0,1,0,0,1,1,1,0,0,0,0,0,0,0],\r\n",
    "\t\t[0,0,0,0,0,0,1,0,0,0,1,1,0,0,0],\r\n",
    "\t\t[0,0,0,1,0,0,0,0,0,0,0,0,0,0,0],\r\n",
    "\t\t[0,0,0,0,0,0,0,0,0,0,0,0,0,0,0]\r\n",
    "\t],dtype=np.uint16)\r\n",
    "cross3x3 = cv.getStructuringElement(cv.MORPH_CROSS,(3,3))\r\n",
    "show_erodecross3x3 = cv.erode(img,cross3x3,iterations=1)\r\n",
    "print(\"Original Binary\")\r\n",
    "plt.imshow(img,cmap='gray'),plt.xticks([]),plt.yticks([])\r\n",
    "plt.show()\r\n"
   ],
   "outputs": [
    {
     "output_type": "stream",
     "name": "stdout",
     "text": [
      "Kernel or Structuring Element Cross 3x3\n",
      "[[0 1 0]\n",
      " [1 1 1]\n",
      " [0 1 0]]\n"
     ]
    },
    {
     "output_type": "error",
     "ename": "error",
     "evalue": "OpenCV(4.5.3) C:/Users/runneradmin/AppData/Local/Temp/pip-req-build-1i5nllza/opencv/modules/imgproc/src/morph.simd.hpp:841: error: (-213:The function/feature is not implemented) Unsupported data type (=4) in function 'cv::opt_AVX2::getMorphologyFilter'\n",
     "traceback": [
      "\u001b[1;31m---------------------------------------------------------------------------\u001b[0m",
      "\u001b[1;31merror\u001b[0m                                     Traceback (most recent call last)",
      "\u001b[1;32mC:\\Users\\MADCLE~1\\AppData\\Local\\Temp/ipykernel_16536/1693648365.py\u001b[0m in \u001b[0;36m<module>\u001b[1;34m\u001b[0m\n\u001b[0;32m     16\u001b[0m \t],dtype=np.ulonglong)\n\u001b[0;32m     17\u001b[0m \u001b[0mcross3x3\u001b[0m \u001b[1;33m=\u001b[0m \u001b[0mcv\u001b[0m\u001b[1;33m.\u001b[0m\u001b[0mgetStructuringElement\u001b[0m\u001b[1;33m(\u001b[0m\u001b[0mcv\u001b[0m\u001b[1;33m.\u001b[0m\u001b[0mMORPH_CROSS\u001b[0m\u001b[1;33m,\u001b[0m\u001b[1;33m(\u001b[0m\u001b[1;36m3\u001b[0m\u001b[1;33m,\u001b[0m\u001b[1;36m3\u001b[0m\u001b[1;33m)\u001b[0m\u001b[1;33m)\u001b[0m\u001b[1;33m\u001b[0m\u001b[1;33m\u001b[0m\u001b[0m\n\u001b[1;32m---> 18\u001b[1;33m \u001b[0mshow_erodecross3x3\u001b[0m \u001b[1;33m=\u001b[0m \u001b[0mcv\u001b[0m\u001b[1;33m.\u001b[0m\u001b[0merode\u001b[0m\u001b[1;33m(\u001b[0m\u001b[0mimg\u001b[0m\u001b[1;33m,\u001b[0m\u001b[0mcross3x3\u001b[0m\u001b[1;33m,\u001b[0m\u001b[0miterations\u001b[0m\u001b[1;33m=\u001b[0m\u001b[1;36m1\u001b[0m\u001b[1;33m)\u001b[0m\u001b[1;33m\u001b[0m\u001b[1;33m\u001b[0m\u001b[0m\n\u001b[0m\u001b[0;32m     19\u001b[0m \u001b[0mprint\u001b[0m\u001b[1;33m(\u001b[0m\u001b[1;34m\"Original Binary\"\u001b[0m\u001b[1;33m)\u001b[0m\u001b[1;33m\u001b[0m\u001b[1;33m\u001b[0m\u001b[0m\n\u001b[0;32m     20\u001b[0m \u001b[0mplt\u001b[0m\u001b[1;33m.\u001b[0m\u001b[0mimshow\u001b[0m\u001b[1;33m(\u001b[0m\u001b[0mimg\u001b[0m\u001b[1;33m,\u001b[0m\u001b[0mcmap\u001b[0m\u001b[1;33m=\u001b[0m\u001b[1;34m'gray'\u001b[0m\u001b[1;33m)\u001b[0m\u001b[1;33m,\u001b[0m\u001b[0mplt\u001b[0m\u001b[1;33m.\u001b[0m\u001b[0mxticks\u001b[0m\u001b[1;33m(\u001b[0m\u001b[1;33m[\u001b[0m\u001b[1;33m]\u001b[0m\u001b[1;33m)\u001b[0m\u001b[1;33m,\u001b[0m\u001b[0mplt\u001b[0m\u001b[1;33m.\u001b[0m\u001b[0myticks\u001b[0m\u001b[1;33m(\u001b[0m\u001b[1;33m[\u001b[0m\u001b[1;33m]\u001b[0m\u001b[1;33m)\u001b[0m\u001b[1;33m\u001b[0m\u001b[1;33m\u001b[0m\u001b[0m\n",
      "\u001b[1;31merror\u001b[0m: OpenCV(4.5.3) C:/Users/runneradmin/AppData/Local/Temp/pip-req-build-1i5nllza/opencv/modules/imgproc/src/morph.simd.hpp:841: error: (-213:The function/feature is not implemented) Unsupported data type (=4) in function 'cv::opt_AVX2::getMorphologyFilter'\n"
     ]
    }
   ],
   "metadata": {}
  }
 ],
 "metadata": {
  "orig_nbformat": 4,
  "language_info": {
   "name": "python",
   "version": "3.9.2",
   "mimetype": "text/x-python",
   "codemirror_mode": {
    "name": "ipython",
    "version": 3
   },
   "pygments_lexer": "ipython3",
   "nbconvert_exporter": "python",
   "file_extension": ".py"
  },
  "kernelspec": {
   "name": "python3",
   "display_name": "Python 3.9.2 64-bit"
  },
  "interpreter": {
   "hash": "23b43f35088985b611a367e4544fc1e1c5544bfe34083edf00d7f058e75fead2"
  }
 },
 "nbformat": 4,
 "nbformat_minor": 2
}